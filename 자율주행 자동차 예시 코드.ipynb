{
 "cells": [
  {
   "cell_type": "markdown",
   "id": "89a760fb",
   "metadata": {},
   "source": [
    "## 1. 자동차 연결"
   ]
  },
  {
   "cell_type": "code",
   "execution_count": null,
   "id": "5cd029e1",
   "metadata": {},
   "outputs": [],
   "source": [
    "from RobokitRS.RobokitRS import *\n",
    "import time as t\n",
    "\n",
    "rs = RobokitRS()"
   ]
  },
  {
   "cell_type": "markdown",
   "id": "907a670e",
   "metadata": {},
   "source": [
    "### 포트 연결"
   ]
  },
  {
   "cell_type": "code",
   "execution_count": null,
   "id": "3913b996",
   "metadata": {},
   "outputs": [],
   "source": [
    "rs.port_open(\"/dev/cu.SLAB_USBtoUART\")"
   ]
  },
  {
   "cell_type": "markdown",
   "id": "a243e115",
   "metadata": {},
   "source": [
    "## 2. RGB 센서 연결"
   ]
  },
  {
   "cell_type": "code",
   "execution_count": null,
   "id": "e8d678f4",
   "metadata": {},
   "outputs": [],
   "source": [
    "# 1. RGB LED 색상 설정 후 ON\n",
    "rs.set_rgb_led_color(12, 100, 100, 100) # 센서 연결 번호(12), R, G, B(0~100)\n",
    "rs.set_rgb_led_on(12)"
   ]
  },
  {
   "cell_type": "code",
   "execution_count": null,
   "id": "5ec9d21d",
   "metadata": {},
   "outputs": [],
   "source": [
    "# 2. RGB LED 색상 바꾸기\n",
    "rs.set_rgb_led_red(12)\n",
    "rs.delay()\n",
    "rs.set_rgb_led_on(12)\n",
    "rs.delay()\n",
    "rs.set_rgb_led_orange(12)\n",
    "rs.delay()"
   ]
  },
  {
   "cell_type": "markdown",
   "id": "4cb9c7b2",
   "metadata": {},
   "source": [
    "## 3. 자동차 주행 함수"
   ]
  },
  {
   "cell_type": "code",
   "execution_count": null,
   "id": "d299f70d",
   "metadata": {},
   "outputs": [],
   "source": [
    "from IPython.display import display, Image\n",
    "display(Image(filename='./auto mobile direction.png'))"
   ]
  },
  {
   "cell_type": "code",
   "execution_count": null,
   "id": "937faa4e",
   "metadata": {},
   "outputs": [],
   "source": [
    "# T: 주행 시간\n",
    "# v: 주행 속도 (최대: 15)\n",
    "\n",
    "# 직진\n",
    "def forward(T, v):\n",
    "    rs.motor_write(0, 1, v)\n",
    "    rs.motor_write(1, 0, v)\n",
    "    rs.motor_write(2, 1, v)\n",
    "    rs.motor_write(3, 0, v)\n",
    "    t.sleep(T)\n",
    "    stop()\n",
    "    \n",
    "# 정지\n",
    "def stop():\n",
    "    rs.motor_write(0, 0, 0)\n",
    "    rs.motor_write(1, 0, 0)\n",
    "    rs.motor_write(2, 0, 0)\n",
    "    rs.motor_write(3, 0, 0)\n",
    "\n",
    "# 후진\n",
    "def reverse(T, v):\n",
    "    rs.motor_write(0, 0, v)\n",
    "    rs.motor_write(1, 1, v)\n",
    "    rs.motor_write(2, 0, v)\n",
    "    rs.motor_write(3, 1, v)\n",
    "    t.sleep(T)\n",
    "    stop()\n",
    "\n",
    "# 오른쪽\n",
    "def right(T, v):\n",
    "    rs.motor_write(0, 1, v)\n",
    "    rs.motor_write(1, 1, v)\n",
    "    rs.motor_write(2, 0, v)\n",
    "    rs.motor_write(3, 0, v)\n",
    "    t.sleep(T)\n",
    "    stop()\n",
    "\n",
    "# 왼쪽\n",
    "def left(T, v):\n",
    "    rs.motor_write(0, 0, v)\n",
    "    rs.motor_write(1, 0, v)\n",
    "    rs.motor_write(2, 1, v)\n",
    "    rs.motor_write(3, 1, v)\n",
    "    t.sleep(T)\n",
    "    stop()\n",
    "\n",
    "# 오른쪽 대각선\n",
    "def front_right(T, v):\n",
    "    rs.motor_write(0, 1, v)\n",
    "    rs.motor_write(3, 0, v)\n",
    "    t.sleep(T)\n",
    "    stop()\n",
    "\n",
    "# 왼쪽 대각선\n",
    "def front_left(T, v):\n",
    "    rs.motor_write(1, 0, v)\n",
    "    rs.motor_write(2, 1, v)\n",
    "    t.sleep(T)\n",
    "    stop()\n",
    "\n",
    "# 우회전\n",
    "def right_turn(T, v):\n",
    "    rs.motor_write(0, 1, v)\n",
    "    rs.motor_write(1, 1, v)\n",
    "    rs.motor_write(2, 1, v)\n",
    "    rs.motor_write(3, 1, v)\n",
    "    t.sleep(T)\n",
    "    stop()\n",
    "\n",
    "# 좌회전\n",
    "def left_turn(T, v):\n",
    "    rs.motor_write(0, 0, v)\n",
    "    rs.motor_write(1, 0, v)\n",
    "    rs.motor_write(2, 0, v)\n",
    "    rs.motor_write(3, 0, v)\n",
    "    t.sleep(T)\n",
    "    stop()\n",
    "\n",
    "# 일시정지\n",
    "def pause(T):\n",
    "    t.sleep(T)"
   ]
  },
  {
   "cell_type": "markdown",
   "id": "413f2767",
   "metadata": {},
   "source": [
    "## 4. 초음파 센서 연결 및 주행"
   ]
  },
  {
   "cell_type": "code",
   "execution_count": null,
   "id": "70ab40b3",
   "metadata": {},
   "outputs": [],
   "source": [
    "def obstacle_detection():\n",
    "    right_turn(1, 5) # 오른쪽 모퉁이와의 거리 측정\n",
    "    right_dist = rs.sonar_read(13)\n",
    "\n",
    "    left_turn(2, 5) # 왼쪽 모퉁이와의 거리 측정\n",
    "    left_dist = rs.sonar_read(13)\n",
    "\n",
    "    right_turn(1, 5) # 원위치\n",
    "\n",
    "    if left_dist > right_dist: # 하수구가 왼쪽으로 꺾여있는 경우\n",
    "        left_turn(1, 3)\n",
    "        forward(1, 3)\n",
    "    else: # 하수구가 오른쪽으로 꺾여있는 경우\n",
    "        right_turn(1, 3)\n",
    "        forward(1, 3)"
   ]
  },
  {
   "cell_type": "code",
   "execution_count": null,
   "id": "617256dd",
   "metadata": {},
   "outputs": [],
   "source": [
    "rs.sonar_begin(13) # 초음파 센서 연결\n",
    "rs.set_rgb_led_orange(12) # ready\n",
    "\n",
    "forward(1, 10)\n",
    "\n",
    "try:\n",
    "    while True:\n",
    "        dist = rs.sonar_read(13) # 초음파 센서로 인식하는 자동차와 장애물 간의 거리\n",
    "        t.sleep(0.1)\n",
    "        print(dist)\n",
    "        rs.set_rgb_led_green(12)\n",
    "\n",
    "        if dist < 20:\n",
    "            stop()\n",
    "            rs.set_rgb_led_orange(12)\n",
    "            \n",
    "            print('Ostacle detected')\n",
    "            obstacle_detection()\n",
    "            \n",
    "        else:\n",
    "            forward(1, 10)\n",
    "except:\n",
    "    stop()\n",
    "    #pass # error 뜨면, try문으로 다시 들어가 초음파 재감지\n",
    "    \n",
    "print(\"종료\")"
   ]
  },
  {
   "cell_type": "code",
   "execution_count": null,
   "id": "53b262b8",
   "metadata": {},
   "outputs": [],
   "source": []
  }
 ],
 "metadata": {
  "kernelspec": {
   "display_name": "Python 3 (ipykernel)",
   "language": "python",
   "name": "python3"
  },
  "language_info": {
   "codemirror_mode": {
    "name": "ipython",
    "version": 3
   },
   "file_extension": ".py",
   "mimetype": "text/x-python",
   "name": "python",
   "nbconvert_exporter": "python",
   "pygments_lexer": "ipython3",
   "version": "3.10.10"
  }
 },
 "nbformat": 4,
 "nbformat_minor": 5
}
