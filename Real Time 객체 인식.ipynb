{
 "cells": [
  {
   "cell_type": "markdown",
   "id": "52fe9b4d",
   "metadata": {},
   "source": [
    "# 필요 모듈 임포트"
   ]
  },
  {
   "cell_type": "code",
   "execution_count": null,
   "id": "f18eb67a",
   "metadata": {},
   "outputs": [],
   "source": [
    "import cv2\n",
    "from ultralytics import YOLO"
   ]
  },
  {
   "cell_type": "markdown",
   "id": "40097ae1",
   "metadata": {},
   "source": [
    "# Real Time으로 객체 탐지 "
   ]
  },
  {
   "cell_type": "code",
   "execution_count": null,
   "id": "f00fcdff",
   "metadata": {},
   "outputs": [],
   "source": [
    "# YOLOv8m 모델 로드\n",
    "model = YOLO('final.pt')\n",
    "\n",
    "# IP camera feed 설정\n",
    "# 폰 먼저 키고 url 확인할 것; endpoint는 live로\n",
    "ip_camera_url = \"http://192.168.0.33/live\"\n",
    "\n",
    "cap = cv2.VideoCapture(ip_camera_url)\n",
    "\n",
    "while cap.isOpened():\n",
    "    \n",
    "    # 비디오로부터 이미지 프레임 읽어오기\n",
    "    success, frame = cap.read()\n",
    "\n",
    "    if success:\n",
    "        # YOLOv8 모델을 통해 객체 탐지\n",
    "        results = model(frame)\n",
    "\n",
    "        # 결과를 프레임에 시각확 \n",
    "        annotated_frame = results[0].plot()\n",
    "\n",
    "        # annotated frame을 표시 \n",
    "        cv2.imshow(\"YOLOv8 Inference\", annotated_frame)\n",
    "\n",
    "        # 'q' 누르면 break\n",
    "        if cv2.waitKey(1) & 0xFF == ord(\"q\"):\n",
    "            break\n",
    "    else:\n",
    "        # 프레임을 가져오는 데 문제가 있다면 중단 \n",
    "        print(\"Failed to grab frame\")\n",
    "        break\n",
    "\n",
    "# video capture 객체를 해제하고 디스플레이 창 닫기 \n",
    "cap.release()\n",
    "cv2.destroyAllWindows()"
   ]
  }
 ],
 "metadata": {
  "kernelspec": {
   "display_name": "Python 3 (ipykernel)",
   "language": "python",
   "name": "python3"
  },
  "language_info": {
   "codemirror_mode": {
    "name": "ipython",
    "version": 3
   },
   "file_extension": ".py",
   "mimetype": "text/x-python",
   "name": "python",
   "nbconvert_exporter": "python",
   "pygments_lexer": "ipython3",
   "version": "3.9.12"
  }
 },
 "nbformat": 4,
 "nbformat_minor": 5
}
